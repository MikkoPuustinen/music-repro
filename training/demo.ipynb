{
 "cells": [
  {
   "cell_type": "code",
   "execution_count": 1,
   "id": "4f708a95",
   "metadata": {},
   "outputs": [],
   "source": [
    "import torch\n",
    "import numpy as np\n",
    "import librosa\n",
    "import os"
   ]
  },
  {
   "cell_type": "code",
   "execution_count": 2,
   "id": "c0c22d2a",
   "metadata": {},
   "outputs": [
    {
     "name": "stdout",
     "output_type": "stream",
     "text": [
      "C:\\Users\\mikko\\AppData\\Local\\librosa\\librosa\\Cache\\Hungarian_Dance_number_5_-_Allegro_in_F_sharp_minor_(string_orchestra).ogg\n",
      "Original audio length (seconds): 45.8449375\n",
      "Input shape: torch.Size([5, 160000])\n"
     ]
    }
   ],
   "source": [
    "# create input audio\n",
    "sampling_rate = 16000\n",
    "seq_length = 10 * sampling_rate\n",
    "\n",
    "filename = librosa.ex('brahms')\n",
    "print(filename)\n",
    "audio, sr = librosa.load(filename, sr=sampling_rate)\n",
    "print('Original audio length (seconds):', len(audio) / sampling_rate)\n",
    "\n",
    "n_chunk = len(audio) // seq_length\n",
    "audio_chunks = []\n",
    "audio_chunks = np.split(audio[: int(n_chunk * seq_length)], n_chunk)\n",
    "audio_chunks.append(audio[-int(seq_length) :])\n",
    "audio_chunks = torch.from_numpy(np.array(audio_chunks))\n",
    "print('Input shape:', audio_chunks.shape)"
   ]
  },
  {
   "cell_type": "code",
   "execution_count": 3,
   "id": "4006895b",
   "metadata": {},
   "outputs": [
    {
     "name": "stderr",
     "output_type": "stream",
     "text": [
      "c:\\Users\\mikko\\miniconda3\\envs\\music_repro\\lib\\site-packages\\torchvision\\io\\image.py:13: UserWarning: Failed to load image Python extension: '[WinError 127] The specified procedure could not be found'If you don't plan on using image functionality from `torchvision.io`, you can ignore this warning. Otherwise, there might be something wrong with your environment. Did you have `libjpeg` or `libpng` installed before building `torchvision` from source?\n",
      "  warn(\n",
      "c:\\Users\\mikko\\code\\thesis\\music-repro\\training\\models\\ASTModel.py:298: FutureWarning: `torch.cuda.amp.autocast(args...)` is deprecated. Please use `torch.amp.autocast('cuda', args...)` instead.\n",
      "  @autocast()\n",
      "c:\\Users\\mikko\\miniconda3\\envs\\music_repro\\lib\\site-packages\\torch\\amp\\autocast_mode.py:265: UserWarning: User provided device_type of 'cuda', but CUDA is not available. Disabling\n",
      "  warnings.warn(\n"
     ]
    },
    {
     "name": "stdout",
     "output_type": "stream",
     "text": [
      "---------------AST Model Summary---------------\n",
      "ImageNet pretraining: True, AudioSet pretraining: True\n"
     ]
    },
    {
     "name": "stderr",
     "output_type": "stream",
     "text": [
      "c:\\Users\\mikko\\code\\thesis\\music-repro\\training\\models\\ASTModel.py:222: FutureWarning: You are using `torch.load` with `weights_only=False` (the current default value), which uses the default pickle module implicitly. It is possible to construct malicious pickle data which will execute arbitrary code during unpickling (See https://github.com/pytorch/pytorch/blob/main/SECURITY.md#untrusted-models for more details). In a future release, the default value for `weights_only` will be flipped to `True`. This limits the functions that could be executed during unpickling. Arbitrary objects will no longer be allowed to be loaded via this mode unless they are explicitly allowlisted by the user via `torch.serialization.add_safe_globals`. We recommend you start setting `weights_only=True` for any use case where you don't have full control of the loaded file. Please open an issue on GitHub for any issues related to this experimental feature.\n",
      "  sd = torch.load(\n"
     ]
    },
    {
     "name": "stdout",
     "output_type": "stream",
     "text": [
      "frequncey stride=10, time stride=10\n",
      "number of patches=1212\n"
     ]
    },
    {
     "name": "stderr",
     "output_type": "stream",
     "text": [
      "C:\\Users\\mikko\\AppData\\Local\\Temp\\ipykernel_7240\\215718542.py:5: FutureWarning: You are using `torch.load` with `weights_only=False` (the current default value), which uses the default pickle module implicitly. It is possible to construct malicious pickle data which will execute arbitrary code during unpickling (See https://github.com/pytorch/pytorch/blob/main/SECURITY.md#untrusted-models for more details). In a future release, the default value for `weights_only` will be flipped to `True`. This limits the functions that could be executed during unpickling. Arbitrary objects will no longer be allowed to be loaded via this mode unless they are explicitly allowlisted by the user via `torch.serialization.add_safe_globals`. We recommend you start setting `weights_only=True` for any use case where you don't have full control of the loaded file. Please open an issue on GitHub for any issues related to this experimental feature.\n",
      "  ckpt_path = torch.load('../models/best_model.pth', 'cpu')\n"
     ]
    },
    {
     "data": {
      "text/plain": [
       "AST(\n",
       "  (ast_mdl): WrappedModel(\n",
       "    (module): ASTModel(\n",
       "      (v): DistilledVisionTransformer(\n",
       "        (patch_embed): PatchEmbed(\n",
       "          (proj): Conv2d(1, 768, kernel_size=(16, 16), stride=(10, 10))\n",
       "        )\n",
       "        (pos_drop): Dropout(p=0.0, inplace=False)\n",
       "        (blocks): ModuleList(\n",
       "          (0-11): 12 x Block(\n",
       "            (norm1): LayerNorm((768,), eps=1e-06, elementwise_affine=True)\n",
       "            (attn): Attention(\n",
       "              (qkv): Linear(in_features=768, out_features=2304, bias=True)\n",
       "              (attn_drop): Dropout(p=0.0, inplace=False)\n",
       "              (proj): Linear(in_features=768, out_features=768, bias=True)\n",
       "              (proj_drop): Dropout(p=0.0, inplace=False)\n",
       "            )\n",
       "            (drop_path): Identity()\n",
       "            (norm2): LayerNorm((768,), eps=1e-06, elementwise_affine=True)\n",
       "            (mlp): Mlp(\n",
       "              (fc1): Linear(in_features=768, out_features=3072, bias=True)\n",
       "              (act): GELU(approximate='none')\n",
       "              (fc2): Linear(in_features=3072, out_features=768, bias=True)\n",
       "              (drop): Dropout(p=0.0, inplace=False)\n",
       "            )\n",
       "          )\n",
       "        )\n",
       "        (norm): LayerNorm((768,), eps=1e-06, elementwise_affine=True)\n",
       "        (pre_logits): Identity()\n",
       "        (head): Linear(in_features=768, out_features=1000, bias=True)\n",
       "        (head_dist): Linear(in_features=768, out_features=1000, bias=True)\n",
       "      )\n",
       "      (mlp_head): Sequential(\n",
       "        (0): LayerNorm((768,), eps=1e-05, elementwise_affine=True)\n",
       "        (1): Linear(in_features=768, out_features=527, bias=True)\n",
       "      )\n",
       "    )\n",
       "  )\n",
       "  (linear): Linear(in_features=54, out_features=1536, bias=True)\n",
       "  (conv): Sequential(\n",
       "    (0): Conv1d(768, 54, kernel_size=(3,), stride=(1,), padding=(1,))\n",
       "    (1): ReLU()\n",
       "    (2): BatchNorm1d(54, eps=1e-05, momentum=0.1, affine=True, track_running_stats=True)\n",
       "    (3): Conv1d(54, 54, kernel_size=(3,), stride=(1,), padding=(1,))\n",
       "    (4): ReLU()\n",
       "    (5): BatchNorm1d(54, eps=1e-05, momentum=0.1, affine=True, track_running_stats=True)\n",
       "    (6): Conv1d(54, 54, kernel_size=(3,), stride=(1,), padding=(1,))\n",
       "    (7): ReLU()\n",
       "    (8): BatchNorm1d(54, eps=1e-05, momentum=0.1, affine=True, track_running_stats=True)\n",
       "    (9): Conv1d(54, 54, kernel_size=(3,), stride=(1,), padding=(1,))\n",
       "  )\n",
       ")"
      ]
     },
     "execution_count": 3,
     "metadata": {},
     "output_type": "execute_result"
    }
   ],
   "source": [
    "# create AST model\n",
    "from models.ASTModel import AST\n",
    "os.makedirs('../../pretrained_models/', exist_ok=True)\n",
    "model = AST(n_class=10, reprog_front='skip', map_num=5)\n",
    "ckpt_path = torch.load('../models/best_model.pth', 'cpu')\n",
    "model.load_state_dict(ckpt_path)\n",
    "model.eval()"
   ]
  },
  {
   "cell_type": "code",
   "execution_count": 4,
   "id": "ea555dd4",
   "metadata": {},
   "outputs": [
    {
     "name": "stdout",
     "output_type": "stream",
     "text": [
      "(5, 10) (5, 768) (5, 768)\n"
     ]
    }
   ],
   "source": [
    "# predict output\n",
    "output, ori_emb, transformed_emb = model(audio_chunks)\n",
    "output = torch.sigmoid(output).detach().cpu().numpy()\n",
    "ori_emb = ori_emb.detach().cpu().numpy()\n",
    "transformed_emb = transformed_emb.detach().cpu().numpy()\n",
    "print(output.shape, ori_emb.shape, transformed_emb.shape)"
   ]
  },
  {
   "cell_type": "code",
   "execution_count": 7,
   "id": "f9bf916a",
   "metadata": {},
   "outputs": [
    {
     "name": "stdout",
     "output_type": "stream",
     "text": [
      "[0.07163401 0.8644131  0.02506389 0.01448015 0.02296827 0.07746428\n",
      " 0.02669765 0.18074808 0.06334026 0.00198011]\n",
      "This song is predicted as: classical\n"
     ]
    }
   ],
   "source": [
    "# result\n",
    "mapping = {\n",
    "            0: \"blues\",\n",
    "            1: \"classical\",\n",
    "            2: \"country\",\n",
    "            3: \"disco\",\n",
    "            4: \"hiphop\",\n",
    "            5: \"jazz\",\n",
    "            6: \"metal\",\n",
    "            7: \"pop\",\n",
    "            8: \"reggae\",\n",
    "            9: \"rock\",\n",
    "        }\n",
    "print(output.mean(0))\n",
    "idx = np.argmax(output.mean(0), axis=0)\n",
    "print('This song is predicted as:', mapping[idx])"
   ]
  },
  {
   "cell_type": "code",
   "execution_count": 8,
   "id": "3c8e1fa9",
   "metadata": {},
   "outputs": [
    {
     "data": {
      "text/plain": [
       "<matplotlib.image.AxesImage at 0x1bf96f43910>"
      ]
     },
     "execution_count": 8,
     "metadata": {},
     "output_type": "execute_result"
    },
    {
     "data": {
      "text/plain": [
       "<Figure size 640x480 with 0 Axes>"
      ]
     },
     "metadata": {},
     "output_type": "display_data"
    },
    {
     "data": {
      "image/png": "[encoded data removed]",
      "text/plain": [
       "<Figure size 640x480 with 2 Axes>"
      ]
     },
     "metadata": {},
     "output_type": "display_data"
    }
   ],
   "source": [
    "import matplotlib.pyplot as plt\n",
    "\n",
    "plt.figure()\n",
    "f, axarr = plt.subplots(2,1)\n",
    "\n",
    "# use the created array to output your multiple images. In this case I have stacked 4 images vertically\n",
    "axarr[0].imshow(ori_emb, interpolation='nearest', aspect='auto')\n",
    "axarr[1].imshow(transformed_emb, interpolation='nearest', aspect='auto')\n"
   ]
  },
  {
   "cell_type": "code",
   "execution_count": null,
   "id": "fc11313a",
   "metadata": {},
   "outputs": [],
   "source": []
  },
  {
   "cell_type": "code",
   "execution_count": null,
   "id": "c50b847f",
   "metadata": {},
   "outputs": [],
   "source": []
  }
 ],
 "metadata": {
  "kernelspec": {
   "display_name": "Python 3 (ipykernel)",
   "language": "python",
   "name": "python3"
  },
  "language_info": {
   "codemirror_mode": {
    "name": "ipython",
    "version": 3
   },
   "file_extension": ".py",
   "mimetype": "text/x-python",
   "name": "python",
   "nbconvert_exporter": "python",
   "pygments_lexer": "ipython3",
   "version": "3.9.19"
  }
 },
 "nbformat": 4,
 "nbformat_minor": 5
}
